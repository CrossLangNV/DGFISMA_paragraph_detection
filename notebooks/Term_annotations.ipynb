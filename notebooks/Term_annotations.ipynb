{
 "cells": [
  {
   "cell_type": "code",
   "execution_count": 1,
   "metadata": {},
   "outputs": [],
   "source": [
    "import sys\n",
    "\n",
    "sys.path.append( \"/notebook/nas-trainings/arne/DGFISMA/term_annotations/src/\" )\n",
    "#sys.path.append( \"/notebook/nas-trainings/arne/UIMA/dkpro-cassis/\" )\n",
    "\n",
    "from cassis.typesystem import load_typesystem\n",
    "from cassis.xmi import load_cas_from_xmi\n",
    "\n",
    "from annotations import add_terms_to_cas\n",
    "from cleaning import get_text_html\n"
   ]
  },
  {
   "cell_type": "code",
   "execution_count": 2,
   "metadata": {},
   "outputs": [],
   "source": [
    "#pip install git+https://github.com/ArneDefauw/dkpro-cassis@master"
   ]
  },
  {
   "cell_type": "markdown",
   "metadata": {},
   "source": [
    "#### 1: Get the text from the cas:"
   ]
  },
  {
   "cell_type": "code",
   "execution_count": 3,
   "metadata": {},
   "outputs": [],
   "source": [
    "with open(\"/notebook/nas-trainings/arne/DGFISMA/term_annotations/input_dir/typesystem.xml\", 'rb') as f:\n",
    "    typesystem = load_typesystem(f)\n",
    "    \n",
    "cas = load_cas_from_xmi(open('../input_dir/html2text_output.xml', 'rb'), typesystem=typesystem)\n",
    "sofa_id=\"html2textView\"\n",
    "\n",
    "#ok for html, should do something similar for plain_text/pdf\n",
    "sentences=get_text_html( cas, sofa_id , tagnames=[ 'p' ]  )  \n"
   ]
  },
  {
   "cell_type": "markdown",
   "metadata": {},
   "source": [
    "#### 2: Send to Term extraction pipeline (and receive terms+tfidf score):"
   ]
  },
  {
   "cell_type": "code",
   "execution_count": 4,
   "metadata": {},
   "outputs": [
    {
     "data": {
      "text/plain": [
       "[('significant entities', '0.35'),\n",
       " ('provisional system', '0.4'),\n",
       " ('limited structure', '0.3'),\n",
       " ('administrative expenditures', '0.1'),\n",
       " ('test', '0.2')]"
      ]
     },
     "execution_count": 4,
     "metadata": {},
     "output_type": "execute_result"
    }
   ],
   "source": [
    "#mock it:\n",
    "\n",
    "#here comes the pipeline for term extraction...(send sentences to the pipeline, receive terms and the tfidf score)\n",
    "\n",
    "terms_tf_idfs=open( \"../input_dir/list_of_terms.txt\"  ).read().strip( '\\n' ).split( \"\\n\" )\n",
    "terms_tf_idfs=[  tuple(term_tf_idf.split( \",\" ))  for term_tf_idf in terms_tf_idfs ]\n",
    "terms_tf_idfs"
   ]
  },
  {
   "cell_type": "markdown",
   "metadata": {},
   "source": [
    "#### 3: Add the terms as annotations to the cas:"
   ]
  },
  {
   "cell_type": "code",
   "execution_count": 5,
   "metadata": {},
   "outputs": [
    {
     "name": "stdout",
     "output_type": "stream",
     "text": [
      "administrative expenditures\n",
      "provisional system\n",
      "administrative expenditures\n",
      "significant entities\n",
      "provisional system\n",
      "limited structure\n",
      "provisional system\n",
      "administrative expenditures\n",
      "administrative expenditures\n",
      "provisional system\n",
      "significant entities\n",
      "significant entities\n",
      "provisional system\n",
      "provisional system\n",
      "provisional system\n",
      "administrative expenditures\n",
      "administrative expenditures\n",
      "provisional system\n",
      "administrative expenditures\n",
      "administrative expenditures\n",
      "administrative expenditures\n",
      "administrative expenditures\n",
      "significant entities\n",
      "provisional system\n",
      "significant entities\n",
      "significant entities\n",
      "provisional system\n",
      "administrative expenditures\n"
     ]
    }
   ],
   "source": [
    "cas=add_terms_to_cas( cas, typesystem, sofa_id, terms_tf_idfs  )\n",
    "\n",
    "#check if ok:\n",
    "list_select=list( cas.get_view( sofa_id ).select( \"de.tudarmstadt.ukp.dkpro.core.api.frequency.tfidf.type.Tfidf\" ) )\n",
    "for item in list_select\n",
    "    print(item.get_covered_text())"
   ]
  },
  {
   "cell_type": "markdown",
   "metadata": {},
   "source": [
    "#### 4: Write to xml"
   ]
  },
  {
   "cell_type": "code",
   "execution_count": 6,
   "metadata": {},
   "outputs": [],
   "source": [
    "cas.to_xmi( path='/notebook/nas-trainings/arne/DGFISMA/term_annotations/output_dir/html2text_output_annotation_2.xml' )"
   ]
  },
  {
   "cell_type": "code",
   "execution_count": 7,
   "metadata": {},
   "outputs": [],
   "source": [
    "cas_string=cas.to_xmi(  )  #put this one in the json and return it"
   ]
  },
  {
   "cell_type": "markdown",
   "metadata": {},
   "source": [
    "# END"
   ]
  }
 ],
 "metadata": {
  "kernelspec": {
   "display_name": "Python 3",
   "language": "python",
   "name": "python3"
  },
  "language_info": {
   "codemirror_mode": {
    "name": "ipython",
    "version": 3
   },
   "file_extension": ".py",
   "mimetype": "text/x-python",
   "name": "python",
   "nbconvert_exporter": "python",
   "pygments_lexer": "ipython3",
   "version": "3.6.9"
  }
 },
 "nbformat": 4,
 "nbformat_minor": 4
}
