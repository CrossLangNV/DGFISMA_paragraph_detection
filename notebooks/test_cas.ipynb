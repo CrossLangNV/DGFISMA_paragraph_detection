{
 "cells": [
  {
   "cell_type": "code",
   "execution_count": 1,
   "metadata": {},
   "outputs": [
    {
     "name": "stdout",
     "output_type": "stream",
     "text": [
      "\u001b[1m============================= test session starts ==============================\u001b[0m\n",
      "platform linux -- Python 3.7.3, pytest-6.0.1, py-1.9.0, pluggy-0.13.1\n",
      "rootdir: /notebook/nas-trainings/arne/DGFISMA_paragraph_detection\n",
      "collected 3 items                                                              \u001b[0m\n",
      "\n",
      "tests/test_annotations.py \u001b[32m.\u001b[0m\u001b[32m.\u001b[0m\u001b[32m.\u001b[0m\u001b[32m                                            [100%]\u001b[0m\n",
      "\n",
      "\u001b[32m============================== \u001b[32m\u001b[1m3 passed\u001b[0m\u001b[32m in 0.49s\u001b[0m\u001b[32m ===============================\u001b[0m\n"
     ]
    }
   ],
   "source": [
    "import os\n",
    "os.chdir( \"/notebook/nas-trainings/arne/DGFISMA_paragraph_detection/\" )\n",
    "! pytest"
   ]
  },
  {
   "cell_type": "code",
   "execution_count": 2,
   "metadata": {},
   "outputs": [],
   "source": [
    "from cassis.typesystem import load_typesystem\n",
    "from cassis.xmi import load_cas_from_xmi"
   ]
  },
  {
   "cell_type": "code",
   "execution_count": 31,
   "metadata": {},
   "outputs": [
    {
     "ename": "AssertionError",
     "evalue": "",
     "output_type": "error",
     "traceback": [
      "\u001b[0;31m\u001b[0m",
      "\u001b[0;31mAssertionError\u001b[0mTraceback (most recent call last)",
      "\u001b[0;32m<ipython-input-31-adccccb19624>\u001b[0m in \u001b[0;36m<module>\u001b[0;34m\u001b[0m\n\u001b[1;32m     18\u001b[0m     \u001b[0mtables_list\u001b[0m\u001b[0;34m=\u001b[0m\u001b[0mf\u001b[0m\u001b[0;34m.\u001b[0m\u001b[0mread\u001b[0m\u001b[0;34m(\u001b[0m\u001b[0;34m)\u001b[0m\u001b[0;34m.\u001b[0m\u001b[0mstrip\u001b[0m\u001b[0;34m(\u001b[0m \u001b[0;34m\"_\"\u001b[0m\u001b[0;34m*\u001b[0m\u001b[0;36m100\u001b[0m\u001b[0;34m+\u001b[0m\u001b[0;34m\"\\n\"\u001b[0m  \u001b[0;34m)\u001b[0m\u001b[0;34m.\u001b[0m\u001b[0msplit\u001b[0m\u001b[0;34m(\u001b[0m \u001b[0;34m\"_\"\u001b[0m\u001b[0;34m*\u001b[0m\u001b[0;36m100\u001b[0m   \u001b[0;34m)\u001b[0m\u001b[0;34m\u001b[0m\u001b[0;34m\u001b[0m\u001b[0m\n\u001b[1;32m     19\u001b[0m \u001b[0;34m\u001b[0m\u001b[0m\n\u001b[0;32m---> 20\u001b[0;31m \u001b[0;32massert\u001b[0m \u001b[0mlen\u001b[0m\u001b[0;34m(\u001b[0m\u001b[0mall_paragraphs\u001b[0m\u001b[0;34m)\u001b[0m\u001b[0;34m==\u001b[0m\u001b[0mlen\u001b[0m\u001b[0;34m(\u001b[0m \u001b[0mtables_list\u001b[0m \u001b[0;34m)\u001b[0m\u001b[0;34m\u001b[0m\u001b[0;34m\u001b[0m\u001b[0m\n\u001b[0m\u001b[1;32m     21\u001b[0m \u001b[0;34m\u001b[0m\u001b[0m\n\u001b[1;32m     22\u001b[0m \u001b[0;32mfor\u001b[0m \u001b[0mfound_list\u001b[0m\u001b[0;34m,\u001b[0m \u001b[0mtrue_list\u001b[0m \u001b[0;32min\u001b[0m \u001b[0mzip\u001b[0m\u001b[0;34m(\u001b[0m \u001b[0mall_paragraphs\u001b[0m\u001b[0;34m,\u001b[0m \u001b[0mtables_list\u001b[0m \u001b[0;34m)\u001b[0m\u001b[0;34m:\u001b[0m\u001b[0;34m\u001b[0m\u001b[0;34m\u001b[0m\u001b[0m\n",
      "\u001b[0;31mAssertionError\u001b[0m: "
     ]
    }
   ],
   "source": [
    "#read in the json:\n",
    "import json\n",
    "import base64\n",
    "\n",
    "with open( \"../tests/test_files/typesystems/typesystem.xml\"   , 'rb') as f:\n",
    "    typesystem = load_typesystem(f)\n",
    "\n",
    "with open('test_files/json/response.json') as json_file:\n",
    "    response = json.load(json_file)\n",
    "\n",
    "decoded_cas_response=base64.b64decode( response[ 'cas_content' ] ).decode( 'utf-8' )\n",
    "\n",
    "cas_response=load_cas_from_xmi( decoded_cas_response, typesystem=typesystem  )\n",
    "\n",
    "all_paragraphs=list(cas_response.get_view( 'html2textView' ).select( \"de.tudarmstadt.ukp.dkpro.core.api.segmentation.type.Paragraph\" ))\n",
    "\n",
    "with open( \"test_files/xmi/small_nested_tables_lists.txt\" , \"r\") as f:\n",
    "    tables_list=f.read().strip( \"_\"*100+\"\\n\"  ).split( \"_\"*100   )\n",
    "\n",
    "assert len(all_paragraphs)==len( tables_list )\n",
    "\n",
    "for found_list, true_list in zip( all_paragraphs, tables_list ):\n",
    "\n",
    "    assert( found_list.get_covered_text().strip().replace('\\r', '') ==  true_list.strip()  )\n",
    "    "
   ]
  },
  {
   "cell_type": "code",
   "execution_count": 38,
   "metadata": {
    "scrolled": true
   },
   "outputs": [
    {
     "name": "stdout",
     "output_type": "stream",
     "text": [
      "\n",
      "   Article 3\n",
      "   Determination of total amount of annual contributions to be raised\n",
      "   The total amount of annual contributions to be raised for a given financial year shall be calculated on the basis of Part I of the budget adopted by the Board for that financial year in accordance with Article 61 of Regulation (EU) No 806/2014, adjusted by the result of the budget of the latest financial year for which the final accounts have been published in accordance with Article 63(7) of that Regulation.\n",
      "   The Board shall determine the total amount of annual contributions so that Part I of the budget of the Board is balanced.\n",
      "   Article 4\n",
      "   Allocation of total amount of annual contributions\n",
      "   1.   The total amount to be raised in accordance with Article 3 shall be allocated as follows:\n",
      "   \n",
      "      \n",
      "      \n",
      "      \n",
      "         \n",
      "            \n",
      "               (a)\n",
      "            \n",
      "            \n",
      "               95 % to the following entities and groups:\n",
      "               \n",
      "                  \n",
      "                  \n",
      "                  \n",
      "                     \n",
      "                        \n",
      "                           (i)\n",
      "                        \n",
      "                        \n",
      "                           entities and groups referred to in Article 7(2) of Regulation (EU) No 806/2014;\n",
      "                        \n",
      "                     \n",
      "                  \n",
      "               \n",
      "               \n",
      "                  \n",
      "                  \n",
      "                  \n",
      "                     \n",
      "                        \n",
      "                           (ii)\n",
      "                        \n",
      "                        \n",
      "                           entities and groups with regard to which the Board has decided to exercise powers under Regulation (EU) No 806/2014 pursuant to Article 7(4)(b) of that Regulation;\n",
      "                        \n",
      "                     \n",
      "                  \n",
      "               \n",
      "               \n",
      "                  \n",
      "                  \n",
      "                  \n",
      "                     \n",
      "                        \n",
      "                           (iii)\n",
      "                        \n",
      "                        \n",
      "                           entities and groups in relation to which participating Member States have decided in accordance with Article 7(5) of Regulation (EU) No 806/2014 that the Board exercise powers and responsibilities conferred to it by that Regulation;\n",
      "                        \n",
      "                     \n",
      "                  \n",
      "               \n",
      "            \n",
      "         \n",
      "      \n",
      "   \n",
      "   \n",
      "      \n",
      "      \n",
      "      \n",
      "         \n",
      "            \n",
      "               (b)\n",
      "            \n",
      "            \n",
      "               5 % to entities and groups referred to in Article 7(3) of Regulation (EU) No 806/2014.\n",
      "            \n",
      "         \n",
      "      \n",
      "   \n",
      "   2.   Without prejudice to Article 7, the Board shall assign entities and groups to one of the two categories laid down in paragraph 1 based on the data which the ECB provides to the Board in accordance with Article 6(1) or Article 11, as applicable.\n",
      "   3.   Where an entity falls under the scope of paragraph 1(a), all the entities that are part of the same group shall be assigned to the same category.\n",
      "   4.   The Board shall report yearly to the Commission on the appropriateness of the allocation laid down in paragraph 1, in the light of the changing composition of the two categories of entities and groups.\n",
      "   Article 5\n",
      "   Calculation of the individual annual contributions\n",
      "   1.   The Board shall calculate the individual annual contributions due for each financial year on the basis of the data received in accordance with Article 6 and the total amount of annual contributions as determined in accordance with Article 3.\n",
      "   2.   For the purposes of calculating the individual annual contributions, the Board shall apply the provisions laid down in Article 10(1), (2) and (3) and Article 10(6)(a), (b) and (c) of Regulation (EU) No 1163/2014.\n",
      "   3.   For the purpose of applying the provisions referred to in paragraph 2:\n",
      "   \n",
      "      \n",
      "      \n",
      "      \n",
      "         \n",
      "            \n",
      "               (a)\n",
      "            \n",
      "            \n",
      "               ‘annual supervisory fee’ means individual annual contribution;\n",
      "            \n",
      "         \n",
      "      \n",
      "   \n",
      "   \n",
      "      \n",
      "      \n",
      "      \n",
      "         \n",
      "            \n",
      "               (b)\n",
      "            \n",
      "            \n",
      "               ‘significant supervised entity’ or ‘significant supervised group’ means an entity or group as referred to in Article 4(1)(a);\n",
      "            \n",
      "         \n",
      "      \n",
      "   \n",
      "   \n",
      "      \n",
      "      \n",
      "      \n",
      "         \n",
      "            \n",
      "               (c)\n",
      "            \n",
      "            \n",
      "               ‘less significant supervised entity’ or ‘less significant supervised group’ means an entity or group as referred to in Article 4(1)(b);\n",
      "            \n",
      "         \n",
      "      \n",
      "   \n",
      "   \n",
      "      \n",
      "      \n",
      "      \n",
      "         \n",
      "            \n",
      "               (d)\n",
      "            \n",
      "            \n",
      "               ‘supervised entity’ or ‘supervised group’ means any entity or group;\n",
      "            \n",
      "         \n",
      "      \n",
      "   \n",
      "   \n",
      "      \n",
      "      \n",
      "      \n",
      "         \n",
      "            \n",
      "               (e)\n",
      "            \n",
      "            \n",
      "               ‘fee debtor’ means contribution debtor.\n",
      "            \n",
      "         \n",
      "      \n",
      "   \n",
      "\n"
     ]
    }
   ],
   "source": [
    "print( list( cas_response.get_view(  'html2textView' ).select( \"com.crosslang.uimahtmltotext.uima.type.ValueBetweenTagType\" ) )[0].get_covered_text() )"
   ]
  },
  {
   "cell_type": "code",
   "execution_count": null,
   "metadata": {},
   "outputs": [],
   "source": []
  },
  {
   "cell_type": "code",
   "execution_count": 12,
   "metadata": {},
   "outputs": [],
   "source": [
    "import json\n",
    "import base64\n",
    "with open('/notebook/nas-trainings/arne/DGFISMA_definition_extraction/tests/test_files/json/small_nested_tables.json') as json_file:\n",
    "    response = json.load(json_file)\n",
    "\n",
    "decoded_cas_response=base64.b64decode( response[ 'cas_content' ] ).decode( 'utf-8' )"
   ]
  },
  {
   "cell_type": "code",
   "execution_count": 15,
   "metadata": {},
   "outputs": [
    {
     "ename": "AttributeError",
     "evalue": "module 'pytest' has no attribute '_version_'",
     "output_type": "error",
     "traceback": [
      "\u001b[0;31m\u001b[0m",
      "\u001b[0;31mAttributeError\u001b[0mTraceback (most recent call last)",
      "\u001b[0;32m<ipython-input-15-414d69a02d25>\u001b[0m in \u001b[0;36m<module>\u001b[0;34m\u001b[0m\n\u001b[1;32m      1\u001b[0m \u001b[0;32mimport\u001b[0m \u001b[0mpytest\u001b[0m\u001b[0;34m\u001b[0m\u001b[0;34m\u001b[0m\u001b[0m\n\u001b[0;32m----> 2\u001b[0;31m \u001b[0mpytest\u001b[0m\u001b[0;34m.\u001b[0m\u001b[0m_version_\u001b[0m\u001b[0;34m\u001b[0m\u001b[0;34m\u001b[0m\u001b[0m\n\u001b[0m",
      "\u001b[0;31mAttributeError\u001b[0m: module 'pytest' has no attribute '_version_'"
     ]
    }
   ],
   "source": [
    "import pytest\n",
    "pytest._version_"
   ]
  },
  {
   "cell_type": "code",
   "execution_count": null,
   "metadata": {},
   "outputs": [],
   "source": []
  },
  {
   "cell_type": "code",
   "execution_count": 108,
   "metadata": {},
   "outputs": [],
   "source": [
    "import json\n",
    "import base64\n",
    "\n",
    "with open( \"../tests/test_files/typesystems/typesystem.xml\"   , 'rb') as f:\n",
    "    typesystem = load_typesystem(f)\n",
    "\n",
    "f = open('../tests/test_files/xmi/doc_bf4ef384-bd7a-51c8-8f7d-d2f61865d767.xmi').read()\n",
    "encoded = base64.b64encode(bytes(f, 'utf-8'))\n",
    "\n",
    "output_json[ 'cas_content' ]=encoded.decode()\n",
    "output_json[ 'content_type' ]='html'\n",
    "\n"
   ]
  },
  {
   "cell_type": "code",
   "execution_count": 121,
   "metadata": {},
   "outputs": [],
   "source": [
    "#dump cas in json"
   ]
  },
  {
   "cell_type": "code",
   "execution_count": 125,
   "metadata": {},
   "outputs": [],
   "source": [
    "output_json={}\n",
    "\n",
    "f = open('../tests/test_files/xmi/doc_bf4ef384-bd7a-51c8-8f7d-d2f61865d767.xmi').read()\n",
    "\n",
    "cas_test=load_cas_from_xmi(f , typesystem=typesystem  )\n",
    " \n",
    "output_json[ 'cas_content' ] = base64.b64encode(bytes( cas.to_xmi() , 'utf-8'))\n"
   ]
  },
  {
   "cell_type": "code",
   "execution_count": null,
   "metadata": {},
   "outputs": [],
   "source": [
    "output_json[ 'cas_content' ]=base64.b64encode(bytes( cas.to_xmi() , 'utf-8'))\n",
    "output_json[ 'content_type']=request.json[ 'content_type']"
   ]
  },
  {
   "cell_type": "code",
   "execution_count": 109,
   "metadata": {},
   "outputs": [],
   "source": [
    "with open('test_files/json/minus_lesser_of.json') as json_file:\n",
    "    data = json.load(json_file)"
   ]
  },
  {
   "cell_type": "code",
   "execution_count": 110,
   "metadata": {},
   "outputs": [],
   "source": [
    "decoded_cas_content=base64.b64decode( data[ 'cas_content' ] ).decode( 'utf-8' )\n",
    "\n",
    "cas_test=load_cas_from_xmi( decoded_cas_content , typesystem=typesystem  )\n"
   ]
  },
  {
   "cell_type": "code",
   "execution_count": 116,
   "metadata": {},
   "outputs": [],
   "source": [
    "encoded = base64.b64encode(bytes( cas_test.to_xmi() , 'utf-8'))"
   ]
  },
  {
   "cell_type": "code",
   "execution_count": 134,
   "metadata": {},
   "outputs": [
    {
     "ename": "TypeError",
     "evalue": "a bytes-like object is required, not 'str'",
     "output_type": "error",
     "traceback": [
      "\u001b[0;31m\u001b[0m",
      "\u001b[0;31mTypeError\u001b[0mTraceback (most recent call last)",
      "\u001b[0;32m<ipython-input-134-7d7f6d0fc518>\u001b[0m in \u001b[0;36m<module>\u001b[0;34m\u001b[0m\n\u001b[1;32m      1\u001b[0m \u001b[0moutput_json\u001b[0m\u001b[0;34m=\u001b[0m\u001b[0;34m{\u001b[0m\u001b[0;34m}\u001b[0m\u001b[0;34m\u001b[0m\u001b[0;34m\u001b[0m\u001b[0m\n\u001b[0;32m----> 2\u001b[0;31m \u001b[0moutput_json\u001b[0m\u001b[0;34m[\u001b[0m \u001b[0;34m'cas_content'\u001b[0m \u001b[0;34m]\u001b[0m\u001b[0;34m=\u001b[0m \u001b[0mstr\u001b[0m\u001b[0;34m(\u001b[0m \u001b[0mbase64\u001b[0m\u001b[0;34m.\u001b[0m\u001b[0mb64encode\u001b[0m\u001b[0;34m(\u001b[0m  \u001b[0mcas_test\u001b[0m\u001b[0;34m.\u001b[0m\u001b[0mto_xmi\u001b[0m\u001b[0;34m(\u001b[0m\u001b[0;34m)\u001b[0m  \u001b[0;34m,\u001b[0m \u001b[0;34m'utf-8'\u001b[0m \u001b[0;34m)\u001b[0m \u001b[0;34m)\u001b[0m\u001b[0;34m\u001b[0m\u001b[0;34m\u001b[0m\u001b[0m\n\u001b[0m\u001b[1;32m      3\u001b[0m \u001b[0moutput_json\u001b[0m\u001b[0;34m[\u001b[0m \u001b[0;34m'content_type'\u001b[0m\u001b[0;34m]\u001b[0m\u001b[0;34m=\u001b[0m\u001b[0;34m''\u001b[0m\u001b[0;34m\u001b[0m\u001b[0;34m\u001b[0m\u001b[0m\n\u001b[1;32m      4\u001b[0m \u001b[0;34m\u001b[0m\u001b[0m\n\u001b[1;32m      5\u001b[0m \u001b[0;32mimport\u001b[0m \u001b[0mjson\u001b[0m\u001b[0;34m\u001b[0m\u001b[0;34m\u001b[0m\u001b[0m\n",
      "\u001b[0;32m/miniconda/lib/python3.7/base64.py\u001b[0m in \u001b[0;36mb64encode\u001b[0;34m(s, altchars)\u001b[0m\n\u001b[1;32m     56\u001b[0m     \u001b[0mapplication\u001b[0m \u001b[0mto\u001b[0m \u001b[0me\u001b[0m\u001b[0;34m.\u001b[0m\u001b[0mg\u001b[0m\u001b[0;34m.\u001b[0m \u001b[0mgenerate\u001b[0m \u001b[0murl\u001b[0m \u001b[0;32mor\u001b[0m \u001b[0mfilesystem\u001b[0m \u001b[0msafe\u001b[0m \u001b[0mBase64\u001b[0m \u001b[0mstrings\u001b[0m\u001b[0;34m.\u001b[0m\u001b[0;34m\u001b[0m\u001b[0;34m\u001b[0m\u001b[0m\n\u001b[1;32m     57\u001b[0m     \"\"\"\n\u001b[0;32m---> 58\u001b[0;31m     \u001b[0mencoded\u001b[0m \u001b[0;34m=\u001b[0m \u001b[0mbinascii\u001b[0m\u001b[0;34m.\u001b[0m\u001b[0mb2a_base64\u001b[0m\u001b[0;34m(\u001b[0m\u001b[0ms\u001b[0m\u001b[0;34m,\u001b[0m \u001b[0mnewline\u001b[0m\u001b[0;34m=\u001b[0m\u001b[0;32mFalse\u001b[0m\u001b[0;34m)\u001b[0m\u001b[0;34m\u001b[0m\u001b[0;34m\u001b[0m\u001b[0m\n\u001b[0m\u001b[1;32m     59\u001b[0m     \u001b[0;32mif\u001b[0m \u001b[0maltchars\u001b[0m \u001b[0;32mis\u001b[0m \u001b[0;32mnot\u001b[0m \u001b[0;32mNone\u001b[0m\u001b[0;34m:\u001b[0m\u001b[0;34m\u001b[0m\u001b[0;34m\u001b[0m\u001b[0m\n\u001b[1;32m     60\u001b[0m         \u001b[0;32massert\u001b[0m \u001b[0mlen\u001b[0m\u001b[0;34m(\u001b[0m\u001b[0maltchars\u001b[0m\u001b[0;34m)\u001b[0m \u001b[0;34m==\u001b[0m \u001b[0;36m2\u001b[0m\u001b[0;34m,\u001b[0m \u001b[0mrepr\u001b[0m\u001b[0;34m(\u001b[0m\u001b[0maltchars\u001b[0m\u001b[0;34m)\u001b[0m\u001b[0;34m\u001b[0m\u001b[0;34m\u001b[0m\u001b[0m\n",
      "\u001b[0;31mTypeError\u001b[0m: a bytes-like object is required, not 'str'"
     ]
    }
   ],
   "source": [
    "\n",
    "\n",
    "output_json={}\n",
    "output_json[ 'cas_content' ]= str( base64.b64encode(  cas_test.to_xmi()  , 'utf-8' ) ) \n",
    "output_json[ 'content_type']=''\n",
    "\n",
    "import json\n",
    "with open('test_files/json/output.json', 'w') as fp:\n",
    "    json.dump(output_json, fp)"
   ]
  },
  {
   "cell_type": "code",
   "execution_count": 139,
   "metadata": {},
   "outputs": [
    {
     "data": {
      "text/plain": [
       "'PD94bWwgdm'"
      ]
     },
     "execution_count": 139,
     "metadata": {},
     "output_type": "execute_result"
    }
   ],
   "source": [
    "str( base64.b64encode(  bytes( cas_test.to_xmi()  , 'utf-8' ) ).decode() )[:10]"
   ]
  },
  {
   "cell_type": "code",
   "execution_count": 141,
   "metadata": {},
   "outputs": [
    {
     "data": {
      "text/plain": [
       "str"
      ]
     },
     "execution_count": 141,
     "metadata": {},
     "output_type": "execute_result"
    }
   ],
   "source": [
    "base64.b64encode(  bytes( cas_test.to_xmi()  , 'utf-8' ) ).decode()"
   ]
  },
  {
   "cell_type": "code",
   "execution_count": 89,
   "metadata": {},
   "outputs": [
    {
     "ename": "UnicodeDecodeError",
     "evalue": "'utf-8' codec can't decode byte 0xc6 in position 0: invalid continuation byte",
     "output_type": "error",
     "traceback": [
      "\u001b[0;31m\u001b[0m",
      "\u001b[0;31mUnicodeDecodeError\u001b[0mTraceback (most recent call last)",
      "\u001b[0;32m<ipython-input-89-5c49b14be6b0>\u001b[0m in \u001b[0;36m<module>\u001b[0;34m\u001b[0m\n\u001b[1;32m      3\u001b[0m \u001b[0;31m#decoded_cas_content=base64.b64decode( data['cas_content'].encode()  ).decode( 'utf-8' )\u001b[0m\u001b[0;34m\u001b[0m\u001b[0;34m\u001b[0m\u001b[0;34m\u001b[0m\u001b[0m\n\u001b[1;32m      4\u001b[0m \u001b[0;34m\u001b[0m\u001b[0m\n\u001b[0;32m----> 5\u001b[0;31m \u001b[0mdecoded_cas_content\u001b[0m\u001b[0;34m=\u001b[0m\u001b[0mbase64\u001b[0m\u001b[0;34m.\u001b[0m\u001b[0mb64decode\u001b[0m\u001b[0;34m(\u001b[0m \u001b[0mdata\u001b[0m\u001b[0;34m[\u001b[0m \u001b[0;34m'cas_content'\u001b[0m \u001b[0;34m]\u001b[0m \u001b[0;34m)\u001b[0m\u001b[0;34m.\u001b[0m\u001b[0mdecode\u001b[0m\u001b[0;34m(\u001b[0m \u001b[0;34m'utf-8'\u001b[0m \u001b[0;34m)\u001b[0m\u001b[0;34m\u001b[0m\u001b[0;34m\u001b[0m\u001b[0m\n\u001b[0m\u001b[1;32m      6\u001b[0m \u001b[0;34m\u001b[0m\u001b[0m\n\u001b[1;32m      7\u001b[0m \u001b[0mcas_test\u001b[0m\u001b[0;34m=\u001b[0m\u001b[0mload_cas_from_xmi\u001b[0m\u001b[0;34m(\u001b[0m \u001b[0mdecoded_cas_content\u001b[0m \u001b[0;34m,\u001b[0m \u001b[0mtypesystem\u001b[0m\u001b[0;34m=\u001b[0m\u001b[0mtypesystem\u001b[0m  \u001b[0;34m)\u001b[0m\u001b[0;34m\u001b[0m\u001b[0;34m\u001b[0m\u001b[0m\n",
      "\u001b[0;31mUnicodeDecodeError\u001b[0m: 'utf-8' codec can't decode byte 0xc6 in position 0: invalid continuation byte"
     ]
    }
   ],
   "source": [
    "#decoded_cas_content=base64.b64decode( data['cas_content']  ).decode( )\n",
    "\n",
    "#decoded_cas_content=base64.b64decode( data['cas_content'].encode()  ).decode( 'utf-8' )\n",
    "\n",
    "decoded_cas_content=base64.b64decode( data[ 'cas_content' ] ).decode( 'utf-8' )\n",
    "\n",
    "cas_test=load_cas_from_xmi( decoded_cas_content , typesystem=typesystem  )\n"
   ]
  },
  {
   "cell_type": "code",
   "execution_count": null,
   "metadata": {},
   "outputs": [],
   "source": []
  },
  {
   "cell_type": "code",
   "execution_count": null,
   "metadata": {},
   "outputs": [],
   "source": []
  },
  {
   "cell_type": "code",
   "execution_count": null,
   "metadata": {},
   "outputs": [],
   "source": []
  },
  {
   "cell_type": "code",
   "execution_count": null,
   "metadata": {},
   "outputs": [],
   "source": []
  },
  {
   "cell_type": "code",
   "execution_count": 70,
   "metadata": {},
   "outputs": [],
   "source": [
    "output_json={}\n",
    "\n",
    "#convert the cas to base64\n",
    "\n",
    "output_json[ 'cas_content' ]=cas.to_xmi()\n",
    "output_json[ 'content_type' ]='html'\n",
    "\n",
    "\n",
    "import json\n",
    "with open('test_files/json/small_nested_tables.json', 'w') as fp:\n",
    "    json.dump(output_json, fp)"
   ]
  },
  {
   "cell_type": "code",
   "execution_count": null,
   "metadata": {},
   "outputs": [],
   "source": []
  },
  {
   "cell_type": "code",
   "execution_count": 19,
   "metadata": {},
   "outputs": [],
   "source": [
    "with open('test_files/json/doc_bf4ef384-bd7a-51c8-8f7d-d2f61865d767.json') as json_file:\n",
    "    data = json.load(json_file)"
   ]
  },
  {
   "cell_type": "code",
   "execution_count": 20,
   "metadata": {},
   "outputs": [],
   "source": [
    "cas_test=load_cas_from_xmi( data['cas_content'], typesystem=typesystem  )"
   ]
  },
  {
   "cell_type": "code",
   "execution_count": 21,
   "metadata": {},
   "outputs": [
    {
     "data": {
      "text/plain": [
       "True"
      ]
     },
     "execution_count": 21,
     "metadata": {},
     "output_type": "execute_result"
    }
   ],
   "source": [
    "cas_test.to_xmi() == cas.to_xmi()"
   ]
  },
  {
   "cell_type": "code",
   "execution_count": null,
   "metadata": {},
   "outputs": [],
   "source": []
  },
  {
   "cell_type": "code",
   "execution_count": null,
   "metadata": {},
   "outputs": [],
   "source": []
  },
  {
   "cell_type": "code",
   "execution_count": 59,
   "metadata": {},
   "outputs": [],
   "source": [
    "import base64\n",
    "from base64 import b64encode\n",
    "\n",
    "    \n",
    "try: \n",
    "    cas_test=load_cas_from_xmi( data[ 'cas_content' ] , typesystem=typesystem  )\n",
    "except ValueError:\n",
    "        print( f\"Could not load cas. Make sure cas_content is a valid xml. String\" )\n"
   ]
  },
  {
   "cell_type": "code",
   "execution_count": 64,
   "metadata": {},
   "outputs": [
    {
     "ename": "TypeError",
     "evalue": "sdf",
     "output_type": "error",
     "traceback": [
      "\u001b[0;31m\u001b[0m",
      "\u001b[0;31mTypeError\u001b[0mTraceback (most recent call last)",
      "\u001b[0;32m<ipython-input-64-d6c6fc6c553d>\u001b[0m in \u001b[0;36m<module>\u001b[0;34m\u001b[0m\n\u001b[1;32m      2\u001b[0m \u001b[0;34m\u001b[0m\u001b[0m\n\u001b[1;32m      3\u001b[0m \u001b[0;32mif\u001b[0m \u001b[0;32mnot\u001b[0m \u001b[0misinstance\u001b[0m\u001b[0;34m(\u001b[0m \u001b[0;36m10\u001b[0m \u001b[0;34m,\u001b[0m \u001b[0mstr\u001b[0m\u001b[0;34m)\u001b[0m\u001b[0;34m:\u001b[0m\u001b[0;34m\u001b[0m\u001b[0;34m\u001b[0m\u001b[0m\n\u001b[0;32m----> 4\u001b[0;31m     \u001b[0;32mraise\u001b[0m \u001b[0mTypeError\u001b[0m\u001b[0;34m(\u001b[0m \u001b[0;34m'sdf'\u001b[0m   \u001b[0;34m)\u001b[0m\u001b[0;34m\u001b[0m\u001b[0;34m\u001b[0m\u001b[0m\n\u001b[0m\u001b[1;32m      5\u001b[0m \u001b[0;34m\u001b[0m\u001b[0m\n",
      "\u001b[0;31mTypeError\u001b[0m: sdf"
     ]
    }
   ],
   "source": [
    "data[ 'cas_content' ] \n",
    "\n",
    "if not isinstance( 10 , str):\n",
    "    raise TypeError( \"'cas_content' should be a String\"  )\n",
    "\n"
   ]
  },
  {
   "cell_type": "code",
   "execution_count": 28,
   "metadata": {},
   "outputs": [],
   "source": [
    "import sys\n",
    "sys.path.append( \"/notebook/nas-trainings/arne/DGFISMA/paragraph_detection/\" )\n",
    "\n",
    "from src.annotations import annotate_lists_eurlex_html\n",
    "\n",
    "#cas=load_cas_from_xmi( open( get_path_xmi , 'rb') , typesystem=typesystem )\n",
    "    \n",
    "cas=annotate_lists_eurlex_html( cas, typesystem, \"html2textView\", list( cas.get_view(  'html2textView' ).select( \"com.crosslang.uimahtmltotext.uima.type.ValueBetweenTagType\" ) ) )\n"
   ]
  },
  {
   "cell_type": "code",
   "execution_count": 34,
   "metadata": {},
   "outputs": [
    {
     "data": {
      "text/plain": [
       "\"Whereas:\\r\\n   \\r\\n      \\r\\n      \\r\\n      \\r\\n         \\r\\n            \\r\\n               (1)\\r\\n            \\r\\n            \\r\\n               The provisional system of instalments on contributions to the administrative expenditures of the Board, laid down in Commission Delegated Regulation (EU) No 1310/2014 (2), was based on a simplified methodology and covered only a limited subset of entities, namely the entities which are considered significant by the European Central Bank (ECB) (‘significant entities’). That provisional system was introduced in order to ensure sufficient funding for the establishment of the Board while minimising the administrative burden for the Board, which at the time had only a limited structure and operational capacity. The provisional system was intended to apply until the Commission would adopt a final system for the determination and raising of the contributions to administrative expenditures.\\r\\n            \\r\\n         \\r\\n      \\r\\n   \\r\\n   \\r\\n      \\r\\n      \\r\\n      \\r\\n         \\r\\n            \\r\\n               (2)\\r\\n            \\r\\n            \\r\\n               As the Board has acquired a more stable structure and operational capacity, it is now appropriate to establish the final system of annual contributions to the administrative expenditures of the Board. A final system should replace the provisional system laid down in Delegated Regulation (EU) No 1310/2014.\\r\\n            \\r\\n         \\r\\n      \\r\\n   \\r\\n   \\r\\n      \\r\\n      \\r\\n      \\r\\n         \\r\\n            \\r\\n               (3)\\r\\n            \\r\\n            \\r\\n               Such a final system should provide for the determination and raising of administrative contributions not only for significant entities, but for all entities that are subject to the Single Resolution Mechanism. The contributions should be calculated at the highest level of consolidation of those entities within the participating Member States, since all subsidiaries of a group inside the perimeter of consolidation fall within the scope of the decision-making powers of the Board when adopting group resolution plans, carrying out the assessment of resolvability of groups and adopting resolution decisions for groups. The exercise of those tasks implies expenditures for the Board for collecting and analysing information and data related to each subsidiary included in the perimeter of consolidation. Since those are expenditures related to the services provided by the Board to the entities that are subject to the Single Resolution Mechanism, they should be paid by those entities and therefore the administrative contributions should be calculated on the basis of their consolidated accounts at the highest level of consolidation within the participating Member States and only one contribution per group should be calculated.\\r\\n            \\r\\n         \\r\\n      \\r\\n   \\r\\n   \\r\\n      \\r\\n      \\r\\n      \\r\\n         \\r\\n            \\r\\n               (4)\\r\\n            \\r\\n            \\r\\n               Pursuant to Article 65(3) of Regulation (EU) No 806/2014 the Board is to determine and raise contributions as well as to ensure that they are fully and timely paid. In order to enable the Board to meet those requirements, an efficient system for raising the administrative contributions from the institutions and entities referred to in Article 2 of Regulation (EU) No 806/2014 should be ensured. Those institutions and entities are already subject to numerous reporting obligations set out in Union legislation. More specifically, pursuant to Regulation (EU) No 1163/2014 of the European Central Bank (3), the ECB collects data on total assets and total risk exposure for the purposes of calculating supervisory fees. The data collected in accordance with Regulation (EU) No 1163/2014 can be meaningfully used for the calculation of the administrative contributions to the Board. Pursuant to Article 30(2) of Regulation (EU) No 806/2014, the Board and the ECB are to cooperate closely in the exercise of their respective responsibilities under that Regulation and, in particular, provide each other with all the information necessary for the performance of their tasks. It is more efficient to request the ECB to transmit data it received and verified in the exercise of its tasks and powers conferred on it by Council Regulation (EU) No 1024/2013 (4) to the Board, than to duplicate the reporting burden for the institutions and entities concerned. Data sharing between the ECB and the Board would also allow avoiding duplication of the data verification process by the Board and builds on the obligation of the Board and the ECB to cooperate closely in the exercise of their respective responsibilities under Regulation (EU) No 806/2014. Any duplication of the data reporting and verification processes would inevitably require more time for the calculation and raising of contributions and would lead to a less efficient system. It follows that, as a part of the cooperation obligation, the ECB should be required to transmit to the Board the data received from the institutions and entities concerned for the purpose of calculating contributions to the Board. The Board should rely to the greatest extent possible on the data collected by the ECB. The Board should have access to the aforementioned data to the extent necessary for the fulfilment of its tasks under this Regulation.\\r\\n            \\r\\n         \\r\\n      \\r\\n   \\r\\n   \\r\\n      \\r\\n      \\r\\n      \\r\\n         \\r\\n            \\r\\n               (5)\\r\\n            \\r\\n            \\r\\n               The allocation of contributions should reflect the difference in the workload and related expenditures for the entities under the Board's direct responsibility as opposed to those under the responsibility of national resolution authorities. Therefore, this Regulation should determine how the contributions should be split between those two groups of entities. Within those two groups, the final system established by this Regulation should require entities to contribute in proportion to the resource requirements that they individually place on the Board, as approximated by observable data.\\r\\n            \\r\\n         \\r\\n      \\r\\n   \\r\\n   \\r\\n      \\r\\n      \\r\\n      \\r\\n         \\r\\n            \\r\\n               (6)\\r\\n            \\r\\n            \\r\\n               In order to provide certainty, both to the Board and to the entities concerned, on how individual annual contributions are to be adjusted in the case of an error in the calculation or changes to the underlying data, this Regulation should lay down specific rules in that respect. Where the Board makes an error in the calculation of the annual contribution, it should be required to rectify that error. Such a requirement should apply as regards errors that occur because the Board applies incorrectly the methodology for calculating the individual annual contributions. In such cases, all contributions should be amended. On the contrary, cases where the input data used in the calculation of individual annual contributions is not correct or is subject to a change after the calculation was performed should not be considered errors in the calculation and should therefore be treated differently. In such cases, only the contributions of the entities whose data was not correct or was subject to a change should be amended.\\r\\n            \\r\\n         \\r\\n      \\r\\n   \\r\\n   \\r\\n      \\r\\n      \\r\\n      \\r\\n         \\r\\n            \\r\\n               (7)\\r\\n            \\r\\n            \\r\\n               In accordance with Article 3 of Council Regulation No 1 (5) the contribution notice and any further communications by the Board should be in the language of the Member State in which the recipient institution is established.\\r\\n            \\r\\n         \\r\\n      \\r\\n   \\r\\n   \\r\\n      \\r\\n      \\r\\n      \\r\\n         \\r\\n            \\r\\n               (8)\\r\\n            \\r\\n            \\r\\n               The payments of the annual contributions should be enforceable and interest on late payment should apply in the event of partial payment, non-payment or non-compliance with the conditions for payment specified in the contribution notice, in order to ensure the full and timely payment of the contributions.\\r\\n            \\r\\n         \\r\\n      \\r\\n   \\r\\n   \\r\\n      \\r\\n      \\r\\n      \\r\\n         \\r\\n            \\r\\n               (9)\\r\\n            \\r\\n            \\r\\n               The contributions of significant entities covered by the provisional system should be reassessed to take into account the amounts paid by them under that provisional system. Any difference between the instalments paid on the basis of the provisional system and the contributions calculated in accordance with the final system should be settled in the calculation of the contributions to the administrative expenditures of the Board for the year following the end of the provisional period.\\r\\n            \\r\\n         \\r\\n      \\r\\n   \\r\\n   \\r\\n      \\r\\n      \\r\\n      \\r\\n         \\r\\n            \\r\\n               (10)\\r\\n            \\r\\n            \\r\\n               Since this Regulation introduces the final system of contributions to the administrative expenditures of the Board, the Regulation on the provisional system is no longer necessary and should be repealed,\\r\\n            \\r\\n         \\r\\n      \\r\\n   \""
      ]
     },
     "execution_count": 34,
     "metadata": {},
     "output_type": "execute_result"
    }
   ],
   "source": [
    "list( cas.get_view(  'html2textView' ).select( 'de.tudarmstadt.ukp.dkpro.core.api.segmentation.type.Paragraph'  ) )[0].get_covered_text()"
   ]
  },
  {
   "cell_type": "code",
   "execution_count": null,
   "metadata": {},
   "outputs": [],
   "source": []
  }
 ],
 "metadata": {
  "kernelspec": {
   "display_name": "Python 3",
   "language": "python",
   "name": "python3"
  },
  "language_info": {
   "codemirror_mode": {
    "name": "ipython",
    "version": 3
   },
   "file_extension": ".py",
   "mimetype": "text/x-python",
   "name": "python",
   "nbconvert_exporter": "python",
   "pygments_lexer": "ipython3",
   "version": "3.7.3"
  }
 },
 "nbformat": 4,
 "nbformat_minor": 4
}
